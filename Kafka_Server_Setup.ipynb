{
  "cells": [
    {
      "cell_type": "code",
      "execution_count": null,
      "metadata": {
        "colab": {
          "base_uri": "https://localhost:8080/"
        },
        "id": "Al0RZLjjgPFI",
        "outputId": "6935a0fd-0c35-4c0f-c221-4f0c821a4257"
      },
      "outputs": [
        {
          "name": "stdout",
          "output_type": "stream",
          "text": [
            "Collecting paramiko\n",
            "  Downloading paramiko-3.5.0-py3-none-any.whl.metadata (4.4 kB)\n",
            "Collecting bcrypt>=3.2 (from paramiko)\n",
            "  Downloading bcrypt-4.2.1-cp39-abi3-manylinux_2_28_x86_64.whl.metadata (9.8 kB)\n",
            "Requirement already satisfied: cryptography>=3.3 in /usr/local/lib/python3.10/dist-packages (from paramiko) (43.0.3)\n",
            "Collecting pynacl>=1.5 (from paramiko)\n",
            "  Downloading PyNaCl-1.5.0-cp36-abi3-manylinux_2_17_x86_64.manylinux2014_x86_64.manylinux_2_24_x86_64.whl.metadata (8.6 kB)\n",
            "Requirement already satisfied: cffi>=1.12 in /usr/local/lib/python3.10/dist-packages (from cryptography>=3.3->paramiko) (1.17.1)\n",
            "Requirement already satisfied: pycparser in /usr/local/lib/python3.10/dist-packages (from cffi>=1.12->cryptography>=3.3->paramiko) (2.22)\n",
            "Downloading paramiko-3.5.0-py3-none-any.whl (227 kB)\n",
            "\u001b[2K   \u001b[90m━━━━━━━━━━━━━━━━━━━━━━━━━━━━━━━━━━━━━━━━\u001b[0m \u001b[32m227.1/227.1 kB\u001b[0m \u001b[31m3.9 MB/s\u001b[0m eta \u001b[36m0:00:00\u001b[0m\n",
            "\u001b[?25hDownloading bcrypt-4.2.1-cp39-abi3-manylinux_2_28_x86_64.whl (278 kB)\n",
            "\u001b[2K   \u001b[90m━━━━━━━━━━━━━━━━━━━━━━━━━━━━━━━━━━━━━━━━\u001b[0m \u001b[32m278.6/278.6 kB\u001b[0m \u001b[31m11.6 MB/s\u001b[0m eta \u001b[36m0:00:00\u001b[0m\n",
            "\u001b[?25hDownloading PyNaCl-1.5.0-cp36-abi3-manylinux_2_17_x86_64.manylinux2014_x86_64.manylinux_2_24_x86_64.whl (856 kB)\n",
            "\u001b[2K   \u001b[90m━━━━━━━━━━━━━━━━━━━━━━━━━━━━━━━━━━━━━━━━\u001b[0m \u001b[32m856.7/856.7 kB\u001b[0m \u001b[31m32.5 MB/s\u001b[0m eta \u001b[36m0:00:00\u001b[0m\n",
            "\u001b[?25hInstalling collected packages: bcrypt, pynacl, paramiko\n",
            "Successfully installed bcrypt-4.2.1 paramiko-3.5.0 pynacl-1.5.0\n"
          ]
        }
      ],
      "source": [
        "!pip install paramiko"
      ]
    },
    {
      "cell_type": "code",
      "execution_count": 34,
      "metadata": {
        "colab": {
          "base_uri": "https://localhost:8080/"
        },
        "id": "sE713lTNswxf",
        "outputId": "e230a579-c005-4b55-c61e-5c90bf8107b3"
      },
      "outputs": [
        {
          "output_type": "stream",
          "name": "stdout",
          "text": [
            "Connected to ec2-3-16-55-19.us-east-2.compute.amazonaws.com\n"
          ]
        }
      ],
      "source": [
        "import paramiko\n",
        "\n",
        "# Replace with your EC2 details\n",
        "hostname = \"ec2-3-16-55-19.us-east-2.compute.amazonaws.com\"\n",
        "username = \"ec2-user\"\n",
        "key_path = \"/content/kafka.pem\"  # Upload the .pem file to Colab\n",
        "\n",
        "try:\n",
        "    # Initialize SSH client\n",
        "    client = paramiko.SSHClient()\n",
        "    client.set_missing_host_key_policy(paramiko.AutoAddPolicy())\n",
        "\n",
        "    # Connect to EC2\n",
        "    client.connect(hostname=hostname, username=username, key_filename=key_path)\n",
        "    print(f\"Connected to {hostname}\")\n",
        "\n",
        "    # Close connection\n",
        "    client.close()\n",
        "\n",
        "except Exception as e:\n",
        "    print(f\"Failed to connect: {e}\")\n"
      ]
    },
    {
      "cell_type": "markdown",
      "source": [
        "## Starting Zookeeper"
      ],
      "metadata": {
        "id": "XkPMXiGz2e4Y"
      }
    },
    {
      "cell_type": "code",
      "execution_count": 36,
      "metadata": {
        "colab": {
          "base_uri": "https://localhost:8080/"
        },
        "id": "6xGwLwHsgTVT",
        "outputId": "d83228c5-8ab7-4b4f-e28f-1eb0e9a7675d"
      },
      "outputs": [
        {
          "output_type": "stream",
          "name": "stdout",
          "text": [
            "\n",
            "\n"
          ]
        }
      ],
      "source": [
        "import paramiko\n",
        "\n",
        "# Define EC2 details\n",
        "hostname = \"ec2-3-16-55-19.us-east-2.compute.amazonaws.com\"\n",
        "username = \"ec2-user\"  # Change if using Ubuntu AMI\n",
        "key_path = \"/content/kafka.pem\"\n",
        "\n",
        "# Connect to EC2\n",
        "client = paramiko.SSHClient()\n",
        "client.set_missing_host_key_policy(paramiko.AutoAddPolicy())\n",
        "client.connect(hostname=hostname, username=username, key_filename=key_path)\n",
        "\n",
        "# Commands to run Zookeeper\n",
        "commands = [\n",
        "    \"cd kafka && bin/zookeeper-server-start.sh -daemon config/zookeeper.properties\"\n",
        "]\n",
        "\n",
        "for cmd in commands:\n",
        "    stdin, stdout, stderr = client.exec_command(cmd)\n",
        "    print(stdout.read().decode())  # Print standard output\n",
        "    print(stderr.read().decode())  # Print standard error\n",
        "\n",
        "client.close()\n"
      ]
    },
    {
      "cell_type": "markdown",
      "source": [
        "## Starting Kafka Server\n",
        "Kafka Topic we have defined earlier hence not updating in this code"
      ],
      "metadata": {
        "id": "-BfcKv7M2kMu"
      }
    },
    {
      "cell_type": "code",
      "execution_count": 37,
      "metadata": {
        "colab": {
          "base_uri": "https://localhost:8080/"
        },
        "id": "i_5RsT1ZS1b7",
        "outputId": "e1f22715-b404-49f2-b569-b0e815b6185d"
      },
      "outputs": [
        {
          "output_type": "stream",
          "name": "stdout",
          "text": [
            "\n",
            "\n"
          ]
        }
      ],
      "source": [
        "import paramiko\n",
        "\n",
        "# Define EC2 details\n",
        "hostname = \"ec2-3-16-55-19.us-east-2.compute.amazonaws.com\"\n",
        "username = \"ec2-user\"  # Change if using Ubuntu AMI\n",
        "key_path = \"/content/kafka.pem\"\n",
        "\n",
        "# Connect to EC2\n",
        "client = paramiko.SSHClient()\n",
        "client.set_missing_host_key_policy(paramiko.AutoAddPolicy())\n",
        "client.connect(hostname=hostname, username=username, key_filename=key_path)\n",
        "\n",
        "# Commands to run Kafka\n",
        "commands = [\n",
        "    \"cd kafka && bin/kafka-server-start.sh -daemon config/server.properties\"\n",
        "]\n",
        "\n",
        "for cmd in commands:\n",
        "    stdin, stdout, stderr = client.exec_command(cmd)\n",
        "    print(stdout.read().decode())  # Print standard output\n",
        "    print(stderr.read().decode())  # Print standard error\n",
        "\n",
        "client.close()\n"
      ]
    },
    {
      "cell_type": "markdown",
      "source": [
        "## Command to check if Kafka server is up."
      ],
      "metadata": {
        "id": "0TBuWWC220jP"
      }
    },
    {
      "cell_type": "code",
      "execution_count": 38,
      "metadata": {
        "colab": {
          "base_uri": "https://localhost:8080/"
        },
        "id": "_c1QJzbBUp-L",
        "outputId": "96c087ed-d9f1-4b70-8997-6c1f98173357"
      },
      "outputs": [
        {
          "output_type": "stream",
          "name": "stdout",
          "text": [
            "Kafka server is running!\n"
          ]
        }
      ],
      "source": [
        "import paramiko\n",
        "\n",
        "# Define EC2 details\n",
        "hostname = \"ec2-3-16-55-19.us-east-2.compute.amazonaws.com\"\n",
        "username = \"ec2-user\"  # Change if using Ubuntu AMI\n",
        "key_path = \"/content/kafka.pem\"\n",
        "\n",
        "try:\n",
        "    client = paramiko.SSHClient()\n",
        "    client.set_missing_host_key_policy(paramiko.AutoAddPolicy())\n",
        "    client.connect(hostname=hostname, username=username, key_filename=key_path)\n",
        "\n",
        "    # Check Kafka status\n",
        "    stdin, stdout, stderr = client.exec_command(\"ps aux | grep kafka | grep -v grep\")\n",
        "    output = stdout.read().decode()\n",
        "\n",
        "    if output:\n",
        "        print(\"Kafka server is running!\")\n",
        "    else:\n",
        "        print(\"Kafka server is not running!\")\n",
        "\n",
        "    client.close()\n",
        "\n",
        "except Exception as e:\n",
        "    print(f\"Failed to check Kafka status: {e}\")"
      ]
    },
    {
      "cell_type": "code",
      "execution_count": null,
      "metadata": {
        "colab": {
          "base_uri": "https://localhost:8080/"
        },
        "id": "0PJc73dTa9aM",
        "outputId": "b43f3187-4635-45fe-de66-760d26ebf4ba"
      },
      "outputs": [
        {
          "name": "stdout",
          "output_type": "stream",
          "text": [
            "Collecting kafka-python\n",
            "  Downloading kafka_python-2.0.2-py2.py3-none-any.whl.metadata (7.8 kB)\n",
            "Downloading kafka_python-2.0.2-py2.py3-none-any.whl (246 kB)\n",
            "\u001b[?25l   \u001b[90m━━━━━━━━━━━━━━━━━━━━━━━━━━━━━━━━━━━━━━━━\u001b[0m \u001b[32m0.0/246.5 kB\u001b[0m \u001b[31m?\u001b[0m eta \u001b[36m-:--:--\u001b[0m\r\u001b[2K   \u001b[91m━━━━━━━━━━━━━━━━━━━━━━━\u001b[0m\u001b[90m╺\u001b[0m\u001b[90m━━━━━━━━━━━━━━━━\u001b[0m \u001b[32m143.4/246.5 kB\u001b[0m \u001b[31m4.0 MB/s\u001b[0m eta \u001b[36m0:00:01\u001b[0m\r\u001b[2K   \u001b[90m━━━━━━━━━━━━━━━━━━━━━━━━━━━━━━━━━━━━━━━━\u001b[0m \u001b[32m246.5/246.5 kB\u001b[0m \u001b[31m4.1 MB/s\u001b[0m eta \u001b[36m0:00:00\u001b[0m\n",
            "\u001b[?25hInstalling collected packages: kafka-python\n",
            "Successfully installed kafka-python-2.0.2\n"
          ]
        }
      ],
      "source": [
        "!pip install kafka-python"
      ]
    },
    {
      "cell_type": "markdown",
      "source": [
        "## Command to see if there are brokers."
      ],
      "metadata": {
        "id": "rNAE_PLl267V"
      }
    },
    {
      "cell_type": "code",
      "execution_count": 39,
      "metadata": {
        "colab": {
          "base_uri": "https://localhost:8080/"
        },
        "id": "wVUduibXa4wa",
        "outputId": "fcf24cef-0a6b-43f4-a36f-f3a1d75c145e"
      },
      "outputs": [
        {
          "output_type": "stream",
          "name": "stdout",
          "text": [
            "Number of Brokers: 1\n",
            "Broker ID: 0, Address: ec2-3-16-55-19.us-east-2.compute.amazonaws.com:9092\n"
          ]
        }
      ],
      "source": [
        "from kafka.admin import KafkaAdminClient\n",
        "\n",
        "# Kafka Admin Client Configuration\n",
        "BROKER = \"ec2-3-16-55-19.us-east-2.compute.amazonaws.com:9092\"  # Replace with your Kafka broker's address\n",
        "\n",
        "try:\n",
        "    # Create Kafka Admin Client\n",
        "    admin_client = KafkaAdminClient(\n",
        "        bootstrap_servers=BROKER,\n",
        "        client_id=\"colab-client\"\n",
        "    )\n",
        "\n",
        "    # Fetch Cluster Metadata\n",
        "    cluster_metadata = admin_client.describe_cluster()\n",
        "\n",
        "    # Print Number of Brokers\n",
        "    print(f\"Number of Brokers: {len(cluster_metadata['brokers'])}\")\n",
        "\n",
        "    # List Broker Details\n",
        "    for broker in cluster_metadata[\"brokers\"]:\n",
        "        print(f\"Broker ID: {broker['node_id']}, Address: {broker['host']}:{broker['port']}\")\n",
        "\n",
        "except Exception as e:\n",
        "    print(f\"Failed to fetch broker details: {e}\")\n"
      ]
    }
  ],
  "metadata": {
    "colab": {
      "provenance": []
    },
    "kernelspec": {
      "display_name": "Python 3",
      "name": "python3"
    },
    "language_info": {
      "name": "python"
    }
  },
  "nbformat": 4,
  "nbformat_minor": 0
}